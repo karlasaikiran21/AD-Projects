{
 "cells": [
  {
   "cell_type": "code",
   "execution_count": 1,
   "metadata": {},
   "outputs": [
    {
     "name": "stdout",
     "output_type": "stream",
     "text": [
      "Integer variable: 10 Type: <class 'int'>\n",
      "Float variable: 10.5 Type: <class 'float'>\n",
      "String variable: Hello, world! Type: <class 'str'>\n",
      "Boolean variable: True Type: <class 'bool'>\n"
     ]
    }
   ],
   "source": [
    "integer_var = 10\n",
    "float_var = 10.5\n",
    "string_var = \"Hello, world!\"\n",
    "boolean_var = True\n",
    "\n",
    "# Printing each variable and its type\n",
    "print(\"Integer variable:\", integer_var, \"Type:\", type(integer_var))\n",
    "print(\"Float variable:\", float_var, \"Type:\", type(float_var))\n",
    "print(\"String variable:\", string_var, \"Type:\", type(string_var))\n",
    "print(\"Boolean variable:\", boolean_var, \"Type:\", type(boolean_var))"
   ]
  }
 ],
 "metadata": {
  "kernelspec": {
   "display_name": "Python 3",
   "language": "python",
   "name": "python3"
  },
  "language_info": {
   "codemirror_mode": {
    "name": "ipython",
    "version": 3
   },
   "file_extension": ".py",
   "mimetype": "text/x-python",
   "name": "python",
   "nbconvert_exporter": "python",
   "pygments_lexer": "ipython3",
   "version": "3.10.11"
  }
 },
 "nbformat": 4,
 "nbformat_minor": 2
}
