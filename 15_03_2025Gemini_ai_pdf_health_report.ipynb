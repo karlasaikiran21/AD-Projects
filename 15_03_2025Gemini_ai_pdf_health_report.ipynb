{
  "nbformat": 4,
  "nbformat_minor": 0,
  "metadata": {
    "colab": {
      "provenance": [],
      "gpuType": "T4"
    },
    "kernelspec": {
      "name": "python3",
      "display_name": "Python 3"
    },
    "language_info": {
      "name": "python"
    },
    "accelerator": "GPU"
  },
  "cells": [
    {
      "cell_type": "code",
      "execution_count": 3,
      "metadata": {
        "id": "6ZSKvVCnNwHF"
      },
      "outputs": [],
      "source": [
        "import google.generativeai as genai\n",
        "from google.colab import userdata\n",
        "\n",
        "GOOGLE_API_KEY=userdata.get(\"GOOGLE_API_KEY\")\n",
        "genai.configure(api_key=GOOGLE_API_KEY)"
      ]
    },
    {
      "cell_type": "code",
      "source": [
        "pip install Pypdf2"
      ],
      "metadata": {
        "colab": {
          "base_uri": "https://localhost:8080/"
        },
        "id": "-DGW44ZlOiSz",
        "outputId": "91d2e38b-255b-48ab-e62e-cf8eea550d72"
      },
      "execution_count": 4,
      "outputs": [
        {
          "output_type": "stream",
          "name": "stdout",
          "text": [
            "Collecting Pypdf2\n",
            "  Downloading pypdf2-3.0.1-py3-none-any.whl.metadata (6.8 kB)\n",
            "Downloading pypdf2-3.0.1-py3-none-any.whl (232 kB)\n",
            "\u001b[?25l   \u001b[90m━━━━━━━━━━━━━━━━━━━━━━━━━━━━━━━━━━━━━━━━\u001b[0m \u001b[32m0.0/232.6 kB\u001b[0m \u001b[31m?\u001b[0m eta \u001b[36m-:--:--\u001b[0m\r\u001b[2K   \u001b[90m━━━━━━━━━━━━━━━━━━━━━━━━━━━━━━━━━━━━━━━━\u001b[0m \u001b[32m232.6/232.6 kB\u001b[0m \u001b[31m15.5 MB/s\u001b[0m eta \u001b[36m0:00:00\u001b[0m\n",
            "\u001b[?25hInstalling collected packages: Pypdf2\n",
            "Successfully installed Pypdf2-3.0.1\n"
          ]
        }
      ]
    },
    {
      "cell_type": "code",
      "source": [
        "import PyPDF2\n",
        "\n",
        "def extract_text_from_pdf(pdf_path):\n",
        "    text = \"\"\n",
        "    with open(pdf_path, \"rb\") as file:\n",
        "      reader = PyPDF2.PdfReader(file)\n",
        "      for page in reader.pages:\n",
        "        text += page.extract_text() + \"\\n\"\n",
        "    return text"
      ],
      "metadata": {
        "id": "Bev4ijMIOvJ6"
      },
      "execution_count": 5,
      "outputs": []
    },
    {
      "cell_type": "code",
      "source": [
        "def extract_health_insights(text):\n",
        "  model = genai.GenerativeModel(\"gemini-1.5-flash\")\n",
        "  prompt = f\"Extract key insights from the following health report:\\n\\n{text}\"\n",
        "  response = model.generate_content(prompt)\n",
        "  return response.text\n",
        "\n",
        "pdf_file = \"health_report.pdf\"\n",
        "extracted_text = extract_text_from_pdf(pdf_file)\n",
        "insights = extract_health_insights(extracted_text)\n",
        "print(\"Key Insights:\\n\",insights)"
      ],
      "metadata": {
        "colab": {
          "base_uri": "https://localhost:8080/",
          "height": 505
        },
        "id": "xIYiKCs3PLyj",
        "outputId": "1866a087-a3c7-40b0-d51d-1fab14e6b8cc"
      },
      "execution_count": 6,
      "outputs": [
        {
          "output_type": "stream",
          "name": "stdout",
          "text": [
            "Key Insights:\n",
            " The report shows test results for Mr. Kishan Goud (MR2100003157) on 01/02/2021.  Key insights include:\n",
            "\n",
            "**Positive Findings (requiring further medical evaluation):**\n",
            "\n",
            "* **Elevated Erythrocyte Sedimentation Rate (ESR):**  The ESR (26 mm/hr in the first hour, 52 mm/hr in the second) is significantly higher than the reference range (0-8 mm/hr).  This indicates inflammation in the body but doesn't pinpoint the cause.  Further investigation is needed.\n",
            "\n",
            "**Negative Findings:**\n",
            "\n",
            "* **No evidence of Typhoid:**  While the Widal test showed some elevation in S. Typhi \"O\" and \"H\" titers (1:160 and 1:80 respectively), this is still below levels typically considered diagnostic for active typhoid infection.\n",
            "* **Negative Dengue:**  Tests for Dengue NS1 antigen, IgG, and IgM antibodies were all negative.\n",
            "* **Negative Malaria:**  Rapid malaria tests for Plasmodium vivax (P.V) and Plasmodium falciparum (P.F) were both negative.\n",
            "\n",
            "\n",
            "**Within Normal Ranges:**\n",
            "\n",
            "* **Complete Blood Count (CBC):** Hemoglobin, RBC, WBC, platelet count, and PCV are all within normal ranges.  Differential counts are also within normal limits, except for slightly elevated lymphocytes (31%).\n",
            "* **HbA1c:**  The HbA1c level (5.4%) falls within the normal non-diabetic range (4-6%), indicating good blood glucose control.\n",
            "* **Blood Glucose (Random):**  The random blood glucose level is not explicitly stated, but the reference range provided (60-170 mg/dl) is broad and doesn't suggest immediate concerns.\n",
            "* **Liver Function Tests (LFTs):**  All LFT values (bilirubin, alkaline phosphatase, SGOT, SGPT, total protein, albumin, globulin, A/G ratio) are within or very close to their respective reference ranges.  This suggests normal liver function.\n",
            "* **Serum Creatinine:**  The serum creatinine level (0.8 mg/dl) is within the normal range (0.6-1.25 mg/dl), indicating normal kidney function.\n",
            "* **Serum Electrolytes:**  Sodium (122 mmol/l), potassium (3.5 mmol/l), and chloride (97 mmol/l) show mild deviation from the normal ranges, but not necessarily indicative of a major problem. The sodium in particular is slightly low (hyponatremia).\n",
            "\n",
            "**Overall:**\n",
            "\n",
            "The most significant finding is the elevated ESR, suggesting ongoing inflammation.  The slightly low sodium is another notable finding that requires physician review. All other test results are generally unremarkable.  Further investigation is likely necessary to determine the underlying cause of the inflammation.  The attending physician, Dr. Krishna Prasad, should interpret these results in the context of the patient's clinical presentation and symptoms.\n",
            "\n"
          ]
        }
      ]
    },
    {
      "cell_type": "code",
      "source": [
        "def summarize_health_report(text):\n",
        "  model=genai.GenerativeModel(\"gemini-1.5-flash\")\n",
        "  prompt=f\"Summarize the following health report:\\n\\n{text}\"\n",
        "  response=model.generate_content(prompt)\n",
        "  return response.text\n",
        "summary=summarize_health_report(extracted_text)\n",
        "print(\"Summary:\\n\",summary)"
      ],
      "metadata": {
        "colab": {
          "base_uri": "https://localhost:8080/",
          "height": 471
        },
        "id": "1Jw8hdzkQfhC",
        "outputId": "34197836-c37f-419e-8eab-d81aac9816f1"
      },
      "execution_count": 7,
      "outputs": [
        {
          "output_type": "stream",
          "name": "stdout",
          "text": [
            "Summary:\n",
            " Mr. Kishan Goud's (MR2100003157) blood tests on 01/02/2021 revealed the following:\n",
            "\n",
            "**Infectious Disease Markers:**\n",
            "\n",
            "* **Widal Test:** Elevated titers for *Salmonella Typhi* \"O\" (1:160) and \"H\" (1:80) suggest possible past or current typhoid infection.  *Salmonella Paratyphi* \"AH\" and \"BH\" titers were within the normal range.\n",
            "* **Dengue Serology:** Negative for NS1 antigen, IgG, and IgM antibodies, ruling out recent dengue infection.\n",
            "* **Malaria:** Negative rapid malaria test for both *Plasmodium falciparum* and *Plasmodium vivax*.\n",
            "\n",
            "**Hematology:**\n",
            "\n",
            "* **Complete Blood Picture (CBC):**  Hemoglobin, RBC, WBC, and platelet counts were all within the normal range.  Differential count showed normal proportions of neutrophils, lymphocytes, eosinophils, monocytes, and basophils.\n",
            "* **Erythrocyte Sedimentation Rate (ESR):** Elevated (26 mm/hr in the first hour, 52 mm/hr in the second hour), suggesting inflammation.\n",
            "\n",
            "**Blood Chemistry:**\n",
            "\n",
            "* **HbA1c:** 5.4%, within the normal range for non-diabetics.\n",
            "* **Random Blood Glucose:**  Result not provided in the text.\n",
            "* **Serum Creatinine:** 0.8 mg/dl, within the normal range.\n",
            "* **Liver Function Test (LFT):** All liver enzymes (bilirubin, alkaline phosphatase, SGOT, SGPT) and total protein/albumin levels were within normal limits.\n",
            "* **Serum Electrolytes:** Sodium (122 mmol/l) was slightly low, while potassium and chloride were within normal ranges.\n",
            "\n",
            "\n",
            "**Overall:**  While the elevated Widal test and ESR suggest a possible past or present infection (possibly typhoid) and some inflammation, the other results are largely unremarkable.  Further investigation might be warranted depending on the patient's clinical presentation and symptoms.  The low sodium level requires attention and further evaluation.\n",
            "\n"
          ]
        }
      ]
    },
    {
      "cell_type": "code",
      "source": [
        "def detect_abnormalities(text):\n",
        "    \"\"\"Analyzes lab test results and flags abnormal values.\"\"\"\n",
        "    model = genai.GenerativeModel(\"gemini-1.5-flash\")\n",
        "    prompt = f\"Analyze the lab test results in the following health report and highlight any abnormal values:\\n\\n{text}\"\n",
        "    response = model.generate_content(prompt)\n",
        "    return response.text\n",
        "\n",
        "abnormalities = detect_abnormalities(extracted_text)\n",
        "print(\"Potential Abnormalities:\\n\", abnormalities)"
      ],
      "metadata": {
        "colab": {
          "base_uri": "https://localhost:8080/",
          "height": 367
        },
        "id": "wSqxsdJ5UnE_",
        "outputId": "b58def27-27b3-4fdd-8d40-09a9d2eb4e6e"
      },
      "execution_count": 8,
      "outputs": [
        {
          "output_type": "stream",
          "name": "stdout",
          "text": [
            "Potential Abnormalities:\n",
            " Based on the provided lab results, the following values are outside the given biological reference ranges, indicating potential abnormalities:\n",
            "\n",
            "* **Widal Test:**  S. Typhi \"O\" (1:160) and S. Typhi \"H\" (1:80) are significantly higher than the reference range (1:20). This strongly suggests a past or present infection with *Salmonella Typhi*, the bacteria that causes typhoid fever.  Further investigation and clinical correlation are necessary.\n",
            "\n",
            "* **Erythrocyte Sedimentation Rate (ESR):**  Both the 1st hour (26 mm/hr) and 2nd hour (52 mm/hr) ESR values are elevated.  The normal range is 0-8 mm/hr for the first hour.  Elevated ESR often indicates inflammation in the body.  The cause needs further investigation.\n",
            "\n",
            "* **Serum Sodium:** The serum sodium level (122 mmol/l) is below the normal range (135-146 mmol/l), indicating hyponatremia (low sodium). This is a significant finding and requires medical attention to determine the underlying cause.\n",
            "\n",
            "* **Serum Chloride:** The serum chloride level (97 mmol/l) is slightly below the lower limit of the normal range (98-107 mmol/l). While borderline, it could be clinically significant depending on other factors and should be considered in the context of the hyponatremia.\n",
            "\n",
            "\n",
            "**Values within or near the reference range but warranting attention in context:**\n",
            "\n",
            "* **RBC (Red Blood Cell count):** Slightly below the lower limit of the reference range. This should be considered along with other findings, especially hemoglobin levels.\n",
            "\n",
            "\n",
            "**Important Note:** This analysis is for informational purposes only and should not be interpreted as a diagnosis.  The interpretation of these results requires clinical correlation by a physician who can consider the patient's complete medical history, physical examination findings, and other relevant information.  The patient (Mr. Kishan Goud) needs to consult his doctor (Dr. Krishna Prasad) for proper evaluation and management.\n",
            "\n"
          ]
        }
      ]
    },
    {
      "cell_type": "code",
      "source": [
        "def explain_medical_terms(text):\n",
        "    model = genai.GenerativeModel('gemini-1.5-flash')\n",
        "    prompt = f\"Explain the medical terms in the following health report in simple language:\\n\\n{text}\"\n",
        "    response = model.generate_content(prompt)\n",
        "    return response.text\n",
        "\n",
        "explanation = explain_medical_terms(extracted_text)\n",
        "print(\"Simplified Explanation:\\n\", explanation)"
      ],
      "metadata": {
        "colab": {
          "base_uri": "https://localhost:8080/",
          "height": 1000
        },
        "id": "yrmxQVEvXBQk",
        "outputId": "8d1b5796-ce23-4ede-aadd-0f2336a437c9"
      },
      "execution_count": 9,
      "outputs": [
        {
          "output_type": "stream",
          "name": "stdout",
          "text": [
            "Simplified Explanation:\n",
            " This report shows the results of several blood tests performed on Mr. Kishan Goud. Let's break down each section:\n",
            "\n",
            "**1. WIDAL Test:** This test checks for antibodies against *Salmonella Typhi* and *Salmonella Paratyphi*, bacteria that cause typhoid fever and paratyphoid fever.\n",
            "\n",
            "* **S. Typhi \"O\" 1:160:**  This means the test detected a significant level of antibodies against the \"O\" antigen of *Salmonella Typhi*.  The higher the number (1:160), the more antibodies are present, suggesting possible past or current infection.  1:20 is the usual cut-off for a positive result.\n",
            "* **S. Typhi \"H\" 1:80:**  Similar to above, but for the \"H\" antigen of *Salmonella Typhi*.  Again, higher than the usual cutoff of 1:20 suggesting possible past or present infection.\n",
            "* **S. Paratyphi \"AH\" 1:20:**  The level of antibodies against the \"AH\" antigen of *Salmonella Paratyphi* is at the borderline of being positive.\n",
            "* **S. Paratyphi \"BH\" 1:20:** The level of antibodies against the \"BH\" antigen of *Salmonella Paratyphi* is at the borderline of being positive.\n",
            "\n",
            "\n",
            "**2. Dengue Serology:** This tests for dengue fever, a viral infection spread by mosquitoes.\n",
            "\n",
            "* **Dengue NS1 Antigen:** Negative – No dengue virus protein was detected.\n",
            "* **Dengue IgG:** Negative –  No antibodies indicating past dengue infection were found.\n",
            "* **Dengue IgM:** Negative – No antibodies indicating a recent dengue infection were found.\n",
            "\n",
            "\n",
            "**3. Erythrocyte Sedimentation Rate (ESR):** This measures how quickly red blood cells settle in a test tube. A higher ESR can indicate inflammation in the body.\n",
            "\n",
            "* **ESR 1st Hour 26 mm/hr:**  This is elevated (higher than the normal range of 0-8 mm/hr).\n",
            "* **ESR 2nd Hour 52 mm/hr:** This is also elevated and shows increased inflammation.\n",
            "\n",
            "\n",
            "**4. Rapid Malaria Test:** This test screens for malaria parasites in the blood.\n",
            "\n",
            "* **P.V Negative:** Negative for *Plasmodium vivax* malaria.\n",
            "* **P.F Negative:** Negative for *Plasmodium falciparum* malaria.\n",
            "\n",
            "\n",
            "**5. Complete Blood Picture (CBC):** This provides a comprehensive analysis of the blood's components.\n",
            "\n",
            "* **Hemoglobin (Hb):** 13.6 gms% (normal). This measures the oxygen-carrying capacity of the blood.\n",
            "* **Red Blood Cells (RBC):** 4.3 mill/cumm (slightly low, but within the borderline). These are the cells that carry oxygen.\n",
            "* **White Blood Cells (WBC):** 7,200 cells/cumm (normal). These fight infection.\n",
            "* **Platelet Count:** 2.0 lakhs/cumm (normal). These cells help with blood clotting.\n",
            "* **Packed Cell Volume (PCV):** 40.5% (normal). This represents the percentage of red blood cells in the blood.\n",
            "* **Differential Count:** This breaks down the types of white blood cells.  All values are within the normal ranges.\n",
            "* **Peripheral Blood Smear:**  The microscopic examination of the blood shows normal-sized and colored red blood cells, and a normal number of white blood cells and platelets.\n",
            "\n",
            "\n",
            "**6. HbA1c:** This test measures average blood sugar levels over the past 2-3 months.  It's used to diagnose and monitor diabetes.  Mr. Kishan's result is within the normal, non-diabetic range.\n",
            "\n",
            "\n",
            "**7. Serum Creatinine:** This indicates kidney function.  The result is within the normal range.\n",
            "\n",
            "\n",
            "**8. Random Blood Glucose:** This measures blood sugar at a single point in time. The result is within the normal range.\n",
            "\n",
            "\n",
            "**9. Liver Function Test (LFT):**  These tests assess liver health. All values are within the normal range.\n",
            "\n",
            "* **Total Bilirubin:** Measures the amount of bilirubin (a breakdown product of red blood cells) in the blood.\n",
            "* **Direct Bilirubin:**  A type of bilirubin.\n",
            "* **Indirect Bilirubin:** Another type of bilirubin.\n",
            "* **Alkaline Phosphatase:** An enzyme found in the liver and bone.\n",
            "* **SGOT (AST):**  Aspartate aminotransferase, an enzyme found in the liver and other tissues.\n",
            "* **SGPT (ALT):** Alanine aminotransferase, an enzyme primarily found in the liver.\n",
            "* **Total Protein:** The overall protein level in the blood.\n",
            "* **Albumin:** A type of protein.\n",
            "* **Globulin:** Another type of protein.\n",
            "* **A/G Ratio:** The ratio of albumin to globulin.\n",
            "\n",
            "\n",
            "**10. Serum Electrolytes:** These tests measure the levels of important minerals in the blood. Sodium is slightly low, while potassium and chloride are within the normal ranges.\n",
            "\n",
            "\n",
            "**In summary:**  Mr. Kishan Goud's blood tests show some inconsistencies.  While most results are within normal limits, the elevated ESR and borderline positive Widal test results suggest possible infection or inflammation. The slightly low sodium levels warrants further investigation.  His doctor should interpret these results in the context of his symptoms and medical history to determine the appropriate course of action.  This explanation is for informational purposes only and should not be considered medical advice.  Always consult with a healthcare professional for any health concerns.\n",
            "\n"
          ]
        }
      ]
    },
    {
      "cell_type": "code",
      "source": [
        "def ask_gemini_about_report(text,question):\n",
        "  model=genai.GenerativeModel(\"gemini-1.5-flash\")\n",
        "  prompt=f\"The following is a health report:\\n\\n{text}\\n\\nAnswer the following question based on the report:\\n{question}\"\n",
        "  response=model.generate_content(prompt)\n",
        "  return response.text\n",
        "question=\"What is the patient's diagnosis?\"\n",
        "answer=ask_gemini_about_report(extracted_text,question)\n",
        "print(\"Answer:\\n\",answer)"
      ],
      "metadata": {
        "colab": {
          "base_uri": "https://localhost:8080/",
          "height": 89
        },
        "id": "aJDmkLi_XRVV",
        "outputId": "42b130fd-a336-4a8d-d61a-76d2d881ec8e"
      },
      "execution_count": 10,
      "outputs": [
        {
          "output_type": "stream",
          "name": "stdout",
          "text": [
            "Answer:\n",
            " The provided lab report does not offer a diagnosis.  It only presents the results of various tests.  The elevated ESR (26 mm/hr in the first hour, 52 mm/hr in the second hour) and slightly elevated Widal test titres for *Salmonella Typhi* (O: 1:160, H: 1:80) suggest *possible* typhoid fever, but this requires clinical correlation by the physician.  The other results are mostly within normal ranges.  A diagnosis can only be made by a doctor considering these results in conjunction with the patient's symptoms and medical history.\n",
            "\n"
          ]
        }
      ]
    }
  ]
}